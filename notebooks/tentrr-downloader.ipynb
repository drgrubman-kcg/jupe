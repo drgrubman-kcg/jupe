{
 "cells": [
  {
   "cell_type": "code",
   "execution_count": 1,
   "id": "5b7583dc",
   "metadata": {},
   "outputs": [],
   "source": [
    "import requests\n",
    "from bs4 import BeautifulSoup\n",
    "from tqdm.notebook import tqdm\n",
    "import pandas as pd\n",
    "from selenium import webdriver\n",
    "import re\n",
    "from webdriver_manager.chrome import ChromeDriverManager\n",
    "import urllib\n",
    "import os\n",
    "import time"
   ]
  },
  {
   "cell_type": "code",
   "execution_count": 2,
   "id": "c0afe450",
   "metadata": {},
   "outputs": [],
   "source": [
    "us_states = ['Alabama', 'Alaska', 'Arizona', 'Arkansas', 'California', 'Colorado', 'Connecticut', 'Washington DC', 'Delaware', 'Florida', 'Georgia', 'Hawaii', 'Idaho', 'Illinois', 'Indiana', 'Iowa', 'Kansas', 'Kentucky', 'Louisiana', 'Maine', 'Maryland', 'Massachusetts', 'Michigan', 'Minnesota', 'Mississippi', 'Missouri', 'Montana', 'Nebraska', 'Nevada', 'New Hampshire', 'New Jersey', 'New Mexico', 'New York', 'North Carolina', 'Ohio', 'Oklahoma', 'Oregon', 'Pennsylvania', 'Rhode Island', 'South Carolina', 'South Dakota', 'Tennessee', 'Texas', 'Utah', 'Vermont', 'Virginia', 'Washington', 'West Virginia', 'Wisconsin', 'Wyoming']\n",
    "# Removed north dakota\n",
    "tentrr_market_listings = {i:f\"https://www.tentrr.com/s/sites/?q={i.replace(' ', '%20')}\" for i in us_states}\n",
    "\n"
   ]
  },
  {
   "cell_type": "code",
   "execution_count": 3,
   "id": "cfc6e5c3",
   "metadata": {},
   "outputs": [],
   "source": [
    "output_dir = \"/Users/davidgrubman/Documents/GitHub/knights-consulting/jupe/tentrr_csv\""
   ]
  },
  {
   "cell_type": "code",
   "execution_count": 4,
   "id": "e9ed09ca",
   "metadata": {},
   "outputs": [
    {
     "data": {
      "application/vnd.jupyter.widget-view+json": {
       "model_id": "14fd8409697a45be80e06f584c98d764",
       "version_major": 2,
       "version_minor": 0
      },
      "text/plain": [
       "  0%|          | 0/50 [00:00<?, ?it/s]"
      ]
     },
     "metadata": {},
     "output_type": "display_data"
    },
    {
     "name": "stderr",
     "output_type": "stream",
     "text": [
      "\n",
      "\n",
      "====== WebDriver manager ======\n",
      "Current google-chrome version is 101.0.4951\n",
      "Get LATEST chromedriver version for 101.0.4951 google-chrome\n",
      "Driver [/Users/davidgrubman/.wdm/drivers/chromedriver/mac64/101.0.4951.41/chromedriver] found in cache\n",
      "/var/folders/yq/206jtrfj4v5cw1tc70gs1m6h0000gn/T/ipykernel_72734/2061395857.py:9: DeprecationWarning: executable_path has been deprecated, please pass in a Service object\n",
      "  driver = webdriver.Chrome(ChromeDriverManager().install())\n"
     ]
    },
    {
     "name": "stdout",
     "output_type": "stream",
     "text": [
      "Hawaii single page\n"
     ]
    },
    {
     "name": "stderr",
     "output_type": "stream",
     "text": [
      "\n",
      "\n",
      "====== WebDriver manager ======\n",
      "Current google-chrome version is 101.0.4951\n",
      "Get LATEST chromedriver version for 101.0.4951 google-chrome\n",
      "Driver [/Users/davidgrubman/.wdm/drivers/chromedriver/mac64/101.0.4951.41/chromedriver] found in cache\n",
      "/var/folders/yq/206jtrfj4v5cw1tc70gs1m6h0000gn/T/ipykernel_72734/2061395857.py:26: DeprecationWarning: executable_path has been deprecated, please pass in a Service object\n",
      "  driver = webdriver.Chrome(ChromeDriverManager().install())\n"
     ]
    },
    {
     "name": "stdout",
     "output_type": "stream",
     "text": [
      "https://www.tentrr.com/s/sites/?q=Hawaii\n"
     ]
    },
    {
     "name": "stderr",
     "output_type": "stream",
     "text": [
      "\n",
      "\n",
      "====== WebDriver manager ======\n",
      "Current google-chrome version is 101.0.4951\n",
      "Get LATEST chromedriver version for 101.0.4951 google-chrome\n",
      "Driver [/Users/davidgrubman/.wdm/drivers/chromedriver/mac64/101.0.4951.41/chromedriver] found in cache\n",
      "/var/folders/yq/206jtrfj4v5cw1tc70gs1m6h0000gn/T/ipykernel_72734/2061395857.py:9: DeprecationWarning: executable_path has been deprecated, please pass in a Service object\n",
      "  driver = webdriver.Chrome(ChromeDriverManager().install())\n"
     ]
    },
    {
     "data": {
      "application/vnd.jupyter.widget-view+json": {
       "model_id": "ba0bb0464b9847069ed953a1ab40694f",
       "version_major": 2,
       "version_minor": 0
      },
      "text/plain": [
       "  0%|          | 0/7 [00:00<?, ?it/s]"
      ]
     },
     "metadata": {},
     "output_type": "display_data"
    },
    {
     "name": "stderr",
     "output_type": "stream",
     "text": [
      "\n",
      "\n",
      "====== WebDriver manager ======\n",
      "Current google-chrome version is 101.0.4951\n",
      "Get LATEST chromedriver version for 101.0.4951 google-chrome\n",
      "Driver [/Users/davidgrubman/.wdm/drivers/chromedriver/mac64/101.0.4951.41/chromedriver] found in cache\n",
      "/var/folders/yq/206jtrfj4v5cw1tc70gs1m6h0000gn/T/ipykernel_72734/2061395857.py:43: DeprecationWarning: executable_path has been deprecated, please pass in a Service object\n",
      "  driver = webdriver.Chrome(ChromeDriverManager().install())\n"
     ]
    },
    {
     "name": "stdout",
     "output_type": "stream",
     "text": [
      "https://www.tentrr.com/s/sites/?q=West%20Virginia&page=1\n"
     ]
    },
    {
     "name": "stderr",
     "output_type": "stream",
     "text": [
      "\n",
      "\n",
      "====== WebDriver manager ======\n",
      "Current google-chrome version is 101.0.4951\n",
      "Get LATEST chromedriver version for 101.0.4951 google-chrome\n",
      "Driver [/Users/davidgrubman/.wdm/drivers/chromedriver/mac64/101.0.4951.41/chromedriver] found in cache\n",
      "/var/folders/yq/206jtrfj4v5cw1tc70gs1m6h0000gn/T/ipykernel_72734/2061395857.py:43: DeprecationWarning: executable_path has been deprecated, please pass in a Service object\n",
      "  driver = webdriver.Chrome(ChromeDriverManager().install())\n"
     ]
    },
    {
     "name": "stdout",
     "output_type": "stream",
     "text": [
      "https://www.tentrr.com/s/sites/?q=West%20Virginia&page=2\n"
     ]
    },
    {
     "name": "stderr",
     "output_type": "stream",
     "text": [
      "\n",
      "\n",
      "====== WebDriver manager ======\n",
      "Current google-chrome version is 101.0.4951\n",
      "Get LATEST chromedriver version for 101.0.4951 google-chrome\n",
      "Driver [/Users/davidgrubman/.wdm/drivers/chromedriver/mac64/101.0.4951.41/chromedriver] found in cache\n",
      "/var/folders/yq/206jtrfj4v5cw1tc70gs1m6h0000gn/T/ipykernel_72734/2061395857.py:43: DeprecationWarning: executable_path has been deprecated, please pass in a Service object\n",
      "  driver = webdriver.Chrome(ChromeDriverManager().install())\n"
     ]
    },
    {
     "name": "stdout",
     "output_type": "stream",
     "text": [
      "https://www.tentrr.com/s/sites/?q=West%20Virginia&page=3\n"
     ]
    },
    {
     "name": "stderr",
     "output_type": "stream",
     "text": [
      "\n",
      "\n",
      "====== WebDriver manager ======\n",
      "Current google-chrome version is 101.0.4951\n",
      "Get LATEST chromedriver version for 101.0.4951 google-chrome\n",
      "Driver [/Users/davidgrubman/.wdm/drivers/chromedriver/mac64/101.0.4951.41/chromedriver] found in cache\n",
      "/var/folders/yq/206jtrfj4v5cw1tc70gs1m6h0000gn/T/ipykernel_72734/2061395857.py:43: DeprecationWarning: executable_path has been deprecated, please pass in a Service object\n",
      "  driver = webdriver.Chrome(ChromeDriverManager().install())\n"
     ]
    },
    {
     "name": "stdout",
     "output_type": "stream",
     "text": [
      "https://www.tentrr.com/s/sites/?q=West%20Virginia&page=4\n"
     ]
    },
    {
     "name": "stderr",
     "output_type": "stream",
     "text": [
      "\n",
      "\n",
      "====== WebDriver manager ======\n",
      "Current google-chrome version is 101.0.4951\n",
      "Get LATEST chromedriver version for 101.0.4951 google-chrome\n",
      "Driver [/Users/davidgrubman/.wdm/drivers/chromedriver/mac64/101.0.4951.41/chromedriver] found in cache\n",
      "/var/folders/yq/206jtrfj4v5cw1tc70gs1m6h0000gn/T/ipykernel_72734/2061395857.py:43: DeprecationWarning: executable_path has been deprecated, please pass in a Service object\n",
      "  driver = webdriver.Chrome(ChromeDriverManager().install())\n"
     ]
    },
    {
     "name": "stdout",
     "output_type": "stream",
     "text": [
      "https://www.tentrr.com/s/sites/?q=West%20Virginia&page=5\n"
     ]
    },
    {
     "name": "stderr",
     "output_type": "stream",
     "text": [
      "\n",
      "\n",
      "====== WebDriver manager ======\n",
      "Current google-chrome version is 101.0.4951\n",
      "Get LATEST chromedriver version for 101.0.4951 google-chrome\n",
      "Driver [/Users/davidgrubman/.wdm/drivers/chromedriver/mac64/101.0.4951.41/chromedriver] found in cache\n",
      "/var/folders/yq/206jtrfj4v5cw1tc70gs1m6h0000gn/T/ipykernel_72734/2061395857.py:43: DeprecationWarning: executable_path has been deprecated, please pass in a Service object\n",
      "  driver = webdriver.Chrome(ChromeDriverManager().install())\n"
     ]
    },
    {
     "name": "stdout",
     "output_type": "stream",
     "text": [
      "https://www.tentrr.com/s/sites/?q=West%20Virginia&page=6\n"
     ]
    },
    {
     "name": "stderr",
     "output_type": "stream",
     "text": [
      "\n",
      "\n",
      "====== WebDriver manager ======\n",
      "Current google-chrome version is 101.0.4951\n",
      "Get LATEST chromedriver version for 101.0.4951 google-chrome\n",
      "Driver [/Users/davidgrubman/.wdm/drivers/chromedriver/mac64/101.0.4951.41/chromedriver] found in cache\n",
      "/var/folders/yq/206jtrfj4v5cw1tc70gs1m6h0000gn/T/ipykernel_72734/2061395857.py:43: DeprecationWarning: executable_path has been deprecated, please pass in a Service object\n",
      "  driver = webdriver.Chrome(ChromeDriverManager().install())\n"
     ]
    },
    {
     "name": "stdout",
     "output_type": "stream",
     "text": [
      "https://www.tentrr.com/s/sites/?q=West%20Virginia&page=7\n"
     ]
    },
    {
     "ename": "InvalidSessionIdException",
     "evalue": "Message: invalid session id\nStacktrace:\n0   chromedriver                        0x00000001028502c9 chromedriver + 5120713\n1   chromedriver                        0x00000001027dee33 chromedriver + 4656691\n2   chromedriver                        0x00000001023ce00f chromedriver + 393231\n3   chromedriver                        0x00000001023f5fc4 chromedriver + 556996\n4   chromedriver                        0x00000001024203fc chromedriver + 730108\n5   chromedriver                        0x000000010241e195 chromedriver + 721301\n6   chromedriver                        0x000000010241da37 chromedriver + 719415\n7   chromedriver                        0x00000001023a6b6a chromedriver + 232298\n8   chromedriver                        0x0000000102822b1d chromedriver + 4934429\n9   chromedriver                        0x0000000102827295 chromedriver + 4952725\n10  chromedriver                        0x000000010282c3cf chromedriver + 4973519\n11  chromedriver                        0x0000000102827cba chromedriver + 4955322\n12  chromedriver                        0x000000010280237c chromedriver + 4801404\n13  chromedriver                        0x00000001023a5c2e chromedriver + 228398\n14  dyld                                0x000000020352e51e start + 462\n15  ???                                 0x0000000000000003 0x0 + 3\n",
     "output_type": "error",
     "traceback": [
      "\u001b[0;31m---------------------------------------------------------------------------\u001b[0m",
      "\u001b[0;31mInvalidSessionIdException\u001b[0m                 Traceback (most recent call last)",
      "\u001b[1;32m/Users/davidgrubman/Documents/GitHub/knights-consulting/jupe/tentrr-downloader.ipynb Cell 4'\u001b[0m in \u001b[0;36m<cell line: 72>\u001b[0;34m()\u001b[0m\n\u001b[1;32m     <a href='vscode-notebook-cell:/Users/davidgrubman/Documents/GitHub/knights-consulting/jupe/tentrr-downloader.ipynb#ch0000028?line=65'>66</a>\u001b[0m         df_out[i] \u001b[39m=\u001b[39m pd\u001b[39m.\u001b[39mto_numeric(df_out[i], errors\u001b[39m=\u001b[39m\u001b[39m\"\u001b[39m\u001b[39mcoerce\u001b[39m\u001b[39m\"\u001b[39m)\n\u001b[1;32m     <a href='vscode-notebook-cell:/Users/davidgrubman/Documents/GitHub/knights-consulting/jupe/tentrr-downloader.ipynb#ch0000028?line=66'>67</a>\u001b[0m     df_out\u001b[39m.\u001b[39mto_csv(output_file)\n\u001b[0;32m---> <a href='vscode-notebook-cell:/Users/davidgrubman/Documents/GitHub/knights-consulting/jupe/tentrr-downloader.ipynb#ch0000028?line=71'>72</a>\u001b[0m driver\u001b[39m.\u001b[39;49mclose()\n",
      "File \u001b[0;32m/opt/anaconda3/envs/jupe/lib/python3.9/site-packages/selenium/webdriver/remote/webdriver.py:937\u001b[0m, in \u001b[0;36mWebDriver.close\u001b[0;34m(self)\u001b[0m\n\u001b[1;32m    <a href='file:///opt/anaconda3/envs/jupe/lib/python3.9/site-packages/selenium/webdriver/remote/webdriver.py?line=927'>928</a>\u001b[0m \u001b[39mdef\u001b[39;00m \u001b[39mclose\u001b[39m(\u001b[39mself\u001b[39m) \u001b[39m-\u001b[39m\u001b[39m>\u001b[39m \u001b[39mNone\u001b[39;00m:\n\u001b[1;32m    <a href='file:///opt/anaconda3/envs/jupe/lib/python3.9/site-packages/selenium/webdriver/remote/webdriver.py?line=928'>929</a>\u001b[0m     \u001b[39m\"\"\"\u001b[39;00m\n\u001b[1;32m    <a href='file:///opt/anaconda3/envs/jupe/lib/python3.9/site-packages/selenium/webdriver/remote/webdriver.py?line=929'>930</a>\u001b[0m \u001b[39m    Closes the current window.\u001b[39;00m\n\u001b[1;32m    <a href='file:///opt/anaconda3/envs/jupe/lib/python3.9/site-packages/selenium/webdriver/remote/webdriver.py?line=930'>931</a>\u001b[0m \n\u001b[0;32m   (...)\u001b[0m\n\u001b[1;32m    <a href='file:///opt/anaconda3/envs/jupe/lib/python3.9/site-packages/selenium/webdriver/remote/webdriver.py?line=934'>935</a>\u001b[0m \u001b[39m            driver.close()\u001b[39;00m\n\u001b[1;32m    <a href='file:///opt/anaconda3/envs/jupe/lib/python3.9/site-packages/selenium/webdriver/remote/webdriver.py?line=935'>936</a>\u001b[0m \u001b[39m    \"\"\"\u001b[39;00m\n\u001b[0;32m--> <a href='file:///opt/anaconda3/envs/jupe/lib/python3.9/site-packages/selenium/webdriver/remote/webdriver.py?line=936'>937</a>\u001b[0m     \u001b[39mself\u001b[39;49m\u001b[39m.\u001b[39;49mexecute(Command\u001b[39m.\u001b[39;49mCLOSE)\n",
      "File \u001b[0;32m/opt/anaconda3/envs/jupe/lib/python3.9/site-packages/selenium/webdriver/remote/webdriver.py:424\u001b[0m, in \u001b[0;36mWebDriver.execute\u001b[0;34m(self, driver_command, params)\u001b[0m\n\u001b[1;32m    <a href='file:///opt/anaconda3/envs/jupe/lib/python3.9/site-packages/selenium/webdriver/remote/webdriver.py?line=421'>422</a>\u001b[0m response \u001b[39m=\u001b[39m \u001b[39mself\u001b[39m\u001b[39m.\u001b[39mcommand_executor\u001b[39m.\u001b[39mexecute(driver_command, params)\n\u001b[1;32m    <a href='file:///opt/anaconda3/envs/jupe/lib/python3.9/site-packages/selenium/webdriver/remote/webdriver.py?line=422'>423</a>\u001b[0m \u001b[39mif\u001b[39;00m response:\n\u001b[0;32m--> <a href='file:///opt/anaconda3/envs/jupe/lib/python3.9/site-packages/selenium/webdriver/remote/webdriver.py?line=423'>424</a>\u001b[0m     \u001b[39mself\u001b[39;49m\u001b[39m.\u001b[39;49merror_handler\u001b[39m.\u001b[39;49mcheck_response(response)\n\u001b[1;32m    <a href='file:///opt/anaconda3/envs/jupe/lib/python3.9/site-packages/selenium/webdriver/remote/webdriver.py?line=424'>425</a>\u001b[0m     response[\u001b[39m'\u001b[39m\u001b[39mvalue\u001b[39m\u001b[39m'\u001b[39m] \u001b[39m=\u001b[39m \u001b[39mself\u001b[39m\u001b[39m.\u001b[39m_unwrap_value(\n\u001b[1;32m    <a href='file:///opt/anaconda3/envs/jupe/lib/python3.9/site-packages/selenium/webdriver/remote/webdriver.py?line=425'>426</a>\u001b[0m         response\u001b[39m.\u001b[39mget(\u001b[39m'\u001b[39m\u001b[39mvalue\u001b[39m\u001b[39m'\u001b[39m, \u001b[39mNone\u001b[39;00m))\n\u001b[1;32m    <a href='file:///opt/anaconda3/envs/jupe/lib/python3.9/site-packages/selenium/webdriver/remote/webdriver.py?line=426'>427</a>\u001b[0m     \u001b[39mreturn\u001b[39;00m response\n",
      "File \u001b[0;32m/opt/anaconda3/envs/jupe/lib/python3.9/site-packages/selenium/webdriver/remote/errorhandler.py:247\u001b[0m, in \u001b[0;36mErrorHandler.check_response\u001b[0;34m(self, response)\u001b[0m\n\u001b[1;32m    <a href='file:///opt/anaconda3/envs/jupe/lib/python3.9/site-packages/selenium/webdriver/remote/errorhandler.py?line=244'>245</a>\u001b[0m         alert_text \u001b[39m=\u001b[39m value[\u001b[39m'\u001b[39m\u001b[39malert\u001b[39m\u001b[39m'\u001b[39m]\u001b[39m.\u001b[39mget(\u001b[39m'\u001b[39m\u001b[39mtext\u001b[39m\u001b[39m'\u001b[39m)\n\u001b[1;32m    <a href='file:///opt/anaconda3/envs/jupe/lib/python3.9/site-packages/selenium/webdriver/remote/errorhandler.py?line=245'>246</a>\u001b[0m     \u001b[39mraise\u001b[39;00m exception_class(message, screen, stacktrace, alert_text)  \u001b[39m# type: ignore[call-arg]  # mypy is not smart enough here\u001b[39;00m\n\u001b[0;32m--> <a href='file:///opt/anaconda3/envs/jupe/lib/python3.9/site-packages/selenium/webdriver/remote/errorhandler.py?line=246'>247</a>\u001b[0m \u001b[39mraise\u001b[39;00m exception_class(message, screen, stacktrace)\n",
      "\u001b[0;31mInvalidSessionIdException\u001b[0m: Message: invalid session id\nStacktrace:\n0   chromedriver                        0x00000001028502c9 chromedriver + 5120713\n1   chromedriver                        0x00000001027dee33 chromedriver + 4656691\n2   chromedriver                        0x00000001023ce00f chromedriver + 393231\n3   chromedriver                        0x00000001023f5fc4 chromedriver + 556996\n4   chromedriver                        0x00000001024203fc chromedriver + 730108\n5   chromedriver                        0x000000010241e195 chromedriver + 721301\n6   chromedriver                        0x000000010241da37 chromedriver + 719415\n7   chromedriver                        0x00000001023a6b6a chromedriver + 232298\n8   chromedriver                        0x0000000102822b1d chromedriver + 4934429\n9   chromedriver                        0x0000000102827295 chromedriver + 4952725\n10  chromedriver                        0x000000010282c3cf chromedriver + 4973519\n11  chromedriver                        0x0000000102827cba chromedriver + 4955322\n12  chromedriver                        0x000000010280237c chromedriver + 4801404\n13  chromedriver                        0x00000001023a5c2e chromedriver + 228398\n14  dyld                                0x000000020352e51e start + 462\n15  ???                                 0x0000000000000003 0x0 + 3\n"
     ]
    }
   ],
   "source": [
    "\n",
    "for state in tqdm(tentrr_market_listings.keys()):\n",
    "    dicts = []\n",
    "    output_file = os.path.join(output_dir, f\"tentrr-{state}.csv\")\n",
    "    if os.path.exists(output_file):\n",
    "        continue\n",
    "\n",
    "    url = tentrr_market_listings.get(state)\n",
    "    chromedriver_location = \"/Users/davidgrubman/Downloads/chromedriver\"\n",
    "    driver = webdriver.Chrome(ChromeDriverManager().install())\n",
    "    answer = driver.get(url)\n",
    "    soup = BeautifulSoup(driver.page_source, 'html.parser')\n",
    "    number_of_records = soup.find_all(\"span\", class_=\"ais-Stats-text\")[0].contents[0].getText()\n",
    "    number_of_records = float(re.findall(r'\\d+', number_of_records)[0])\n",
    "    records_per_page = 7\n",
    "    pages = number_of_records / 7\n",
    "    if pages < 1:\n",
    "        print(state, \"single page\")\n",
    "        single_page = True\n",
    "    else:\n",
    "        single_page = False\n",
    "    time.sleep(2)\n",
    "    driver.close()\n",
    "    time.sleep(2)\n",
    "    if single_page:\n",
    "        url_pagination = url\n",
    "        driver = webdriver.Chrome(ChromeDriverManager().install())\n",
    "        answer = driver.get(url_pagination)\n",
    "        soup = BeautifulSoup(driver.page_source, 'html.parser')    \n",
    "        names = [i.contents[0] for i in soup.find_all(\"h6\", class_=\"hitCardSiteName\")]\n",
    "        urls = [i.attrs['href'] for i in soup.find_all(\"a\", class_=\"btnSearchResults\", href=True)]\n",
    "        prices = [i.contents[0] for i in soup.find_all(\"div\", class_=\"searchResultSitePrice\")]\n",
    "        d= {\"names\":names, \"urls\":urls, \"prices\":prices}\n",
    "        df = pd.DataFrame(d)\n",
    "        df[\"state\"] = state\n",
    "        dicts.append(df)\n",
    "        print(url_pagination)\n",
    "        time.sleep(1)\n",
    "        driver.close()\n",
    "        time.sleep(1)\n",
    "    else:\n",
    "        for i in tqdm(range(1, int(pages + 1))):\n",
    "            url_pagination = url + f\"&page={i}\"\n",
    "            driver = webdriver.Chrome(ChromeDriverManager().install())\n",
    "            answer = driver.get(url_pagination)\n",
    "            soup = BeautifulSoup(driver.page_source, 'html.parser')    \n",
    "            names = [i.contents[0] for i in soup.find_all(\"h6\", class_=\"hitCardSiteName\")]\n",
    "            urls = [i.attrs['href'] for i in soup.find_all(\"a\", class_=\"btnSearchResults\", href=True)]\n",
    "            prices = [i.contents[0] for i in soup.find_all(\"div\", class_=\"searchResultSitePrice\")]\n",
    "            d= {\"names\":names, \"urls\":urls, \"prices\":prices}\n",
    "            df = pd.DataFrame(d)\n",
    "            df[\"state\"] = state\n",
    "            dicts.append(df)\n",
    "            print(url_pagination)\n",
    "            time.sleep(1)\n",
    "            driver.close()\n",
    "            time.sleep(2)\n",
    "    if len(dicts) == 0:\n",
    "        continue\n",
    "    df_out = pd.concat(dicts)\n",
    "    if len(df_out) == 0:\n",
    "        continue\n",
    "    df_out[\"urls\"] = \"https://www.tentrr.com\" + df_out[\"urls\"]\n",
    "    for i in [\"prices\"]:\n",
    "        df_out[i] = df_out[i].replace(\"Studio\", \"0\")\n",
    "        df_out[i] = df_out[i].astype(str).str.extract(\"(\\d+)\")\n",
    "        df_out[i] = pd.to_numeric(df_out[i], errors=\"coerce\")\n",
    "    df_out.to_csv(output_file)\n",
    "    \n",
    "\n",
    "    \n",
    "\n",
    "driver.close()"
   ]
  },
  {
   "cell_type": "code",
   "execution_count": null,
   "id": "07f94ceb",
   "metadata": {},
   "outputs": [
    {
     "name": "stderr",
     "output_type": "stream",
     "text": [
      "\n",
      "\n",
      "====== WebDriver manager ======\n",
      "Current google-chrome version is 101.0.4951\n",
      "Get LATEST chromedriver version for 101.0.4951 google-chrome\n",
      "Driver [/Users/davidgrubman/.wdm/drivers/chromedriver/mac64/101.0.4951.41/chromedriver] found in cache\n",
      "/var/folders/yq/206jtrfj4v5cw1tc70gs1m6h0000gn/T/ipykernel_57078/3496235387.py:2: DeprecationWarning: executable_path has been deprecated, please pass in a Service object\n",
      "  driver = webdriver.Chrome(ChromeDriverManager().install())\n"
     ]
    }
   ],
   "source": [
    "# chromedriver_location = \"/Users/davidgrubman/Downloads/chromedriver\"\n",
    "# driver = webdriver.Chrome(ChromeDriverManager().install())\n",
    "# url = \"https://www.tentrr.com/s/sites/?q=texas\"\n",
    "# answer = driver.get(url)\n",
    "# soup = BeautifulSoup(driver.page_source, 'html.parser')\n",
    "# number_of_records = soup.find_all(\"span\", class_=\"ais-Stats-text\")[0].contents[0].getText()\n",
    "# number_of_records = float(re.findall(r'\\d+', number_of_records)[0])\n",
    "\n",
    "# driver.close()"
   ]
  },
  {
   "cell_type": "code",
   "execution_count": null,
   "id": "554e12db",
   "metadata": {},
   "outputs": [
    {
     "name": "stdout",
     "output_type": "stream",
     "text": [
      "55.0\n"
     ]
    }
   ],
   "source": [
    "print(number_of_records)"
   ]
  },
  {
   "cell_type": "code",
   "execution_count": null,
   "id": "8200088a",
   "metadata": {},
   "outputs": [],
   "source": [
    "# records_per_page = 7\n",
    "# pages = number_of_records / 7\n",
    "# pages\n",
    "\n",
    "# dicts = []\n",
    "# for i in tqdm(range(1, int(pages + 1))):\n",
    "#     url_pagination = url + f\"&page={i}\"\n",
    "#     driver = webdriver.Chrome(ChromeDriverManager().install())\n",
    "#     answer = driver.get(url_pagination)\n",
    "#     soup = BeautifulSoup(driver.page_source, 'html.parser')    \n",
    "#     names = [i.contents[0] for i in soup.find_all(\"h6\", class_=\"hitCardSiteName\")]\n",
    "#     urls = [i.attrs['href'] for i in soup.find_all(\"a\", class_=\"btnSearchResults\", href=True)]\n",
    "#     prices = [i.contents[0] for i in soup.find_all(\"div\", class_=\"searchResultSitePrice\")]\n",
    "#     d= {\"names\":names, \"urls\":urls, \"prices\":prices}\n",
    "#     df = pd.DataFrame(d)\n",
    "#     dicts.append(df)\n",
    "#     print(url_pagination)\n",
    "#     driver.close()\n",
    "\n",
    "\n"
   ]
  },
  {
   "cell_type": "code",
   "execution_count": null,
   "id": "84e843b1",
   "metadata": {},
   "outputs": [
    {
     "data": {
      "text/html": [
       "<div>\n",
       "<style scoped>\n",
       "    .dataframe tbody tr th:only-of-type {\n",
       "        vertical-align: middle;\n",
       "    }\n",
       "\n",
       "    .dataframe tbody tr th {\n",
       "        vertical-align: top;\n",
       "    }\n",
       "\n",
       "    .dataframe thead th {\n",
       "        text-align: right;\n",
       "    }\n",
       "</style>\n",
       "<table border=\"1\" class=\"dataframe\">\n",
       "  <thead>\n",
       "    <tr style=\"text-align: right;\">\n",
       "      <th></th>\n",
       "      <th>names</th>\n",
       "      <th>urls</th>\n",
       "      <th>prices</th>\n",
       "      <th>state</th>\n",
       "    </tr>\n",
       "  </thead>\n",
       "  <tbody>\n",
       "  </tbody>\n",
       "</table>\n",
       "</div>"
      ],
      "text/plain": [
       "Empty DataFrame\n",
       "Columns: [names, urls, prices, state]\n",
       "Index: []"
      ]
     },
     "execution_count": 17,
     "metadata": {},
     "output_type": "execute_result"
    }
   ],
   "source": [
    "df_out"
   ]
  }
 ],
 "metadata": {
  "kernelspec": {
   "display_name": "Python 3 (ipykernel)",
   "language": "python",
   "name": "python3"
  },
  "language_info": {
   "codemirror_mode": {
    "name": "ipython",
    "version": 3
   },
   "file_extension": ".py",
   "mimetype": "text/x-python",
   "name": "python",
   "nbconvert_exporter": "python",
   "pygments_lexer": "ipython3",
   "version": "3.9.12"
  }
 },
 "nbformat": 4,
 "nbformat_minor": 5
}
